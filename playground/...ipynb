{
 "cells": [
  {
   "cell_type": "code",
   "execution_count": 9,
   "metadata": {},
   "outputs": [
    {
     "name": "stderr",
     "output_type": "stream",
     "text": [
      "7:11 - Object is possibly 'undefined'.\n"
     ]
    }
   ],
   "source": [
    "const info = {\n",
    "\ta:123,\n",
    "\t// b:this.a+1\n",
    "}\n",
    "info.a\n",
    "\n",
    "const b = undefined.toString()\n",
    "console.log('b',b);"
   ]
  },
  {
   "cell_type": "code",
   "execution_count": 11,
   "metadata": {},
   "outputs": [],
   "source": [
    "const s:number = NaN"
   ]
  },
  {
   "cell_type": "code",
   "execution_count": 6,
   "metadata": {},
   "outputs": [
    {
     "name": "stdout",
     "output_type": "stream",
     "text": [
      "true\n"
     ]
    }
   ],
   "source": [
    "['aa','b'].includes('b')"
   ]
  },
  {
   "cell_type": "code",
   "execution_count": 4,
   "metadata": {},
   "outputs": [
    {
     "name": "stderr",
     "output_type": "stream",
     "text": [
      "7:3 - Property 'map' does not exist on type '{ a: number; b: string; }'.\n"
     ]
    }
   ],
   "source": [
    "const o = {\n",
    "\t'a': 1,\n",
    "\t'b':'2',\n",
    "}\n",
    "// Object.keys(o)\n",
    "// let i :keyof o\n",
    "// o.map()\n",
    "// o.find()"
   ]
  },
  {
   "cell_type": "code",
   "execution_count": 2,
   "metadata": {},
   "outputs": [
    {
     "name": "stdout",
     "output_type": "stream",
     "text": [
      "2\n"
     ]
    }
   ],
   "source": [
    "''?1:2"
   ]
  },
  {
   "cell_type": "code",
   "execution_count": 5,
   "metadata": {},
   "outputs": [
    {
     "name": "stderr",
     "output_type": "stream",
     "text": [
      "1:7 - Expected 1-2 arguments, but got 0.\n"
     ]
    }
   ],
   "source": [
    "['1'].find(predicate)"
   ]
  }
 ],
 "metadata": {
  "kernelspec": {
   "display_name": "TypeScript",
   "language": "typescript",
   "name": "tslab"
  },
  "language_info": {
   "codemirror_mode": {
    "mode": "typescript",
    "name": "javascript",
    "typescript": true
   },
   "file_extension": ".ts",
   "mimetype": "text/typescript",
   "name": "typescript",
   "version": "3.7.2"
  },
  "orig_nbformat": 4
 },
 "nbformat": 4,
 "nbformat_minor": 2
}
