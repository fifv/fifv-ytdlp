{
 "cells": [
  {
   "cell_type": "code",
   "execution_count": 9,
   "metadata": {},
   "outputs": [
    {
     "name": "stderr",
     "output_type": "stream",
     "text": [
      "7:11 - Object is possibly 'undefined'.\n"
     ]
    }
   ],
   "source": [
    "const info = {\n",
    "\ta:123,\n",
    "\t// b:this.a+1\n",
    "}\n",
    "info.a\n",
    "\n",
    "const b = undefined.toString()\n",
    "console.log('b',b);"
   ]
  },
  {
   "cell_type": "code",
   "execution_count": 11,
   "metadata": {},
   "outputs": [],
   "source": [
    "const s:number = NaN"
   ]
  },
  {
   "cell_type": "code",
   "execution_count": 6,
   "metadata": {},
   "outputs": [
    {
     "name": "stdout",
     "output_type": "stream",
     "text": [
      "true\n"
     ]
    }
   ],
   "source": [
    "['aa','b'].includes('b')"
   ]
  },
  {
   "cell_type": "code",
   "execution_count": 4,
   "metadata": {},
   "outputs": [
    {
     "name": "stderr",
     "output_type": "stream",
     "text": [
      "7:3 - Property 'map' does not exist on type '{ a: number; b: string; }'.\n"
     ]
    }
   ],
   "source": [
    "const o = {\n",
    "\t'a': 1,\n",
    "\t'b':'2',\n",
    "}\n",
    "// Object.keys(o)\n",
    "// let i :keyof o\n",
    "// o.map()\n",
    "// o.find()"
   ]
  },
  {
   "cell_type": "code",
   "execution_count": 2,
   "metadata": {},
   "outputs": [
    {
     "name": "stdout",
     "output_type": "stream",
     "text": [
      "2\n"
     ]
    }
   ],
   "source": [
    "''?1:2"
   ]
  },
  {
   "cell_type": "code",
   "execution_count": 5,
   "metadata": {},
   "outputs": [
    {
     "name": "stderr",
     "output_type": "stream",
     "text": [
      "1:7 - Expected 1-2 arguments, but got 0.\n"
     ]
    }
   ],
   "source": [
    "['1'].find(predicate)"
   ]
  },
  {
   "cell_type": "code",
   "execution_count": 4,
   "metadata": {},
   "outputs": [
    {
     "name": "stdout",
     "output_type": "stream",
     "text": [
      "123true\n"
     ]
    }
   ],
   "source": [
    "import { stdout } from \"process\";\n",
    "\n",
    "stdout.write('123')"
   ]
  },
  {
   "cell_type": "code",
   "execution_count": 2,
   "metadata": {},
   "outputs": [
    {
     "name": "stderr",
     "output_type": "stream",
     "text": [
      "15:45 - Cannot find name '___dirname'.\n",
      "15:45 - Cannot find name '___dirname'. Did you mean '__dirname'?\n"
     ]
    }
   ],
   "source": [
    "import path from \"path\";\n",
    "import { Low, JSONFile } from 'lowdb'\n",
    "import { fileURLToPath } from 'url'\n",
    "\n",
    "/**\n",
    " * 初見的神奇搞法\n",
    " * __dirname用不了\n",
    " * import.meta.url指向這個腳本(是url)\n",
    " * fileURLToPath()轉換為path\n",
    " * dirname()去掉basename,流下dirname\n",
    " */\n",
    "const __dirname = path.dirname(fileURLToPath(import.meta.url))\n",
    "console.log(__dirname);\n"
   ]
  },
  {
   "cell_type": "code",
   "execution_count": 9,
   "metadata": {},
   "outputs": [
    {
     "name": "stdout",
     "output_type": "stream",
     "text": [
      "hi\n",
      "1\n"
     ]
    }
   ],
   "source": [
    "const f = async (params: string) => {\n",
    "\tconsole.log('hi');\n",
    "\treturn 1\n",
    "}\n",
    "await f('2')"
   ]
  },
  {
   "cell_type": "code",
   "execution_count": 5,
   "metadata": {},
   "outputs": [
    {
     "name": "stdout",
     "output_type": "stream",
     "text": [
      "false\n"
     ]
    }
   ],
   "source": [
    "const aa = [{\n",
    "\t\"timestamp\": 1645536868344,\n",
    "\t\"status\": \"finished\",\n",
    "\t\"destPath\": \"D:\\\\Downloads\\\\CRTubeGet Downloaded\\\\youtube-dl\\\\[20220203]【茸茸鼠Komame 】伍佰鼠 挪威的森林!【もちこまめ】【伍佰】【挪威的森林】【VTuber】【實況精華】-JjCvQeAj6EA.webm\",\n",
    "\t\"percentValue\": 100,\n",
    "\t\"fileSizeString\": \"6.05 MiB\",\n",
    "\t\"title\": \"【茸茸鼠Komame 】伍佰鼠 挪威的森林!【もちこまめ】【伍佰】【挪威的森林】【VTuber】【實況精華】\"\n",
    "}]\n",
    "const ba = [{\n",
    "\t\"timestamp\": 1645536868344,\n",
    "\t\"status\": \"finished\",\n",
    "\t\"destPath\": \"D:\\\\Downloads\\\\CRTubeGet Downloaded\\\\youtube-dl\\\\[20220203]【茸茸鼠Komame 】伍佰鼠 挪威的森林!【もちこまめ】【伍佰】【挪威的森林】【VTuber】【實況精華】-JjCvQeAj6EA.webm\",\n",
    "\t\"percentValue\": 100,\n",
    "\t\"fileSizeString\": \"6.05 MiB\",\n",
    "\t\"title\": \"【茸茸鼠Komame 】伍佰鼠 挪威的森林!【もちこまめ】【伍佰】【挪威的森林】【VTuber】【實況精華】\"\n",
    "}]\n",
    "aa == ba"
   ]
  },
  {
   "cell_type": "code",
   "execution_count": 6,
   "metadata": {},
   "outputs": [
    {
     "name": "stdout",
     "output_type": "stream",
     "text": [
      "true\n"
     ]
    }
   ],
   "source": [
    "const a: any = { a: 1 }\n",
    "const b = a\n",
    "a==b"
   ]
  }
 ],
 "metadata": {
  "kernelspec": {
   "display_name": "TypeScript",
   "language": "typescript",
   "name": "tslab"
  },
  "language_info": {
   "codemirror_mode": {
    "mode": "typescript",
    "name": "javascript",
    "typescript": true
   },
   "file_extension": ".ts",
   "mimetype": "text/typescript",
   "name": "typescript",
   "version": "3.7.2"
  },
  "orig_nbformat": 4
 },
 "nbformat": 4,
 "nbformat_minor": 2
}
