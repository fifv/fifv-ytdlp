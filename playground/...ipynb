{
 "cells": [
  {
   "cell_type": "code",
   "execution_count": null,
   "metadata": {},
   "outputs": [],
   "source": [
    "const info = {\n",
    "\ta:123,\n",
    "\t// b:this.a+1\n",
    "}\n",
    "info.a\n",
    "\n",
    "const b = undefined.toString()\n",
    "console.log('b',b);"
   ]
  },
  {
   "cell_type": "code",
   "execution_count": null,
   "metadata": {},
   "outputs": [],
   "source": [
    "const s:number = NaN"
   ]
  },
  {
   "cell_type": "code",
   "execution_count": null,
   "metadata": {},
   "outputs": [],
   "source": [
    "['aa','b'].includes('b')"
   ]
  },
  {
   "cell_type": "code",
   "execution_count": null,
   "metadata": {},
   "outputs": [],
   "source": [
    "const o = {\n",
    "\t'a': 1,\n",
    "\t'b':'2',\n",
    "}\n",
    "// Object.keys(o)\n",
    "// let i :keyof o\n",
    "// o.map()\n",
    "// o.find()"
   ]
  },
  {
   "cell_type": "code",
   "execution_count": null,
   "metadata": {},
   "outputs": [],
   "source": [
    "''?1:2"
   ]
  },
  {
   "cell_type": "code",
   "execution_count": null,
   "metadata": {},
   "outputs": [],
   "source": [
    "['1'].find(predicate)"
   ]
  },
  {
   "cell_type": "code",
   "execution_count": null,
   "metadata": {},
   "outputs": [],
   "source": [
    "import { stdout } from \"process\";\n",
    "\n",
    "stdout.write('123')"
   ]
  },
  {
   "cell_type": "code",
   "execution_count": null,
   "metadata": {},
   "outputs": [],
   "source": [
    "import path from \"path\";\n",
    "import { Low, JSONFile } from 'lowdb'\n",
    "import { fileURLToPath } from 'url'\n",
    "\n",
    "/**\n",
    " * 初見的神奇搞法\n",
    " * __dirname用不了\n",
    " * import.meta.url指向這個腳本(是url)\n",
    " * fileURLToPath()轉換為path\n",
    " * dirname()去掉basename,流下dirname\n",
    " */\n",
    "const __dirname = path.dirname(fileURLToPath(import.meta.url))\n",
    "console.log(__dirname);\n"
   ]
  },
  {
   "cell_type": "code",
   "execution_count": null,
   "metadata": {},
   "outputs": [],
   "source": [
    "const f = async (params: string) => {\n",
    "\tconsole.log('hi');\n",
    "\treturn 1\n",
    "}\n",
    "await f('2')"
   ]
  },
  {
   "cell_type": "code",
   "execution_count": null,
   "metadata": {},
   "outputs": [],
   "source": [
    "const aa = [{\n",
    "\t\"timestamp\": 1645536868344,\n",
    "\t\"status\": \"finished\",\n",
    "\t\"destPath\": \"D:\\\\Downloads\\\\CRTubeGet Downloaded\\\\youtube-dl\\\\[20220203]【茸茸鼠Komame 】伍佰鼠 挪威的森林!【もちこまめ】【伍佰】【挪威的森林】【VTuber】【實況精華】-JjCvQeAj6EA.webm\",\n",
    "\t\"percentValue\": 100,\n",
    "\t\"fileSizeString\": \"6.05 MiB\",\n",
    "\t\"title\": \"【茸茸鼠Komame 】伍佰鼠 挪威的森林!【もちこまめ】【伍佰】【挪威的森林】【VTuber】【實況精華】\"\n",
    "}]\n",
    "const ba = [{\n",
    "\t\"timestamp\": 1645536868344,\n",
    "\t\"status\": \"finished\",\n",
    "\t\"destPath\": \"D:\\\\Downloads\\\\CRTubeGet Downloaded\\\\youtube-dl\\\\[20220203]【茸茸鼠Komame 】伍佰鼠 挪威的森林!【もちこまめ】【伍佰】【挪威的森林】【VTuber】【實況精華】-JjCvQeAj6EA.webm\",\n",
    "\t\"percentValue\": 100,\n",
    "\t\"fileSizeString\": \"6.05 MiB\",\n",
    "\t\"title\": \"【茸茸鼠Komame 】伍佰鼠 挪威的森林!【もちこまめ】【伍佰】【挪威的森林】【VTuber】【實況精華】\"\n",
    "}]\n",
    "aa == ba"
   ]
  },
  {
   "cell_type": "code",
   "execution_count": null,
   "metadata": {},
   "outputs": [],
   "source": [
    "const a: any = { a: 1 }\n",
    "const b = a\n",
    "a==b"
   ]
  },
  {
   "cell_type": "code",
   "execution_count": null,
   "metadata": {},
   "outputs": [],
   "source": [
    "const saveTimer = {\n",
    "\ttimer: null,\n",
    "\tnotice() {\n",
    "\t\tconsole.log('timer:',this.timer);\n",
    "\t\t// if (this.timer) {\n",
    "\t\t\tclearTimeout(this.timer)\n",
    "\t\t\tconsole.log('timer:',this.timer);\n",
    "\t\t// }\n",
    "\t\tthis.timer = setTimeout(() => {\n",
    "\t\t\tconsole.log('hi');\n",
    "\t\t}, 1000)\n",
    "\t}\n",
    "}\n",
    "saveTimer.notice()\n",
    "saveTimer.notice()\n",
    "// saveTimer.notice()\n",
    "// saveTimer.notice()\n",
    "// saveTimer.notice()"
   ]
  },
  {
   "cell_type": "code",
   "execution_count": null,
   "metadata": {},
   "outputs": [],
   "source": [
    "const worker = require('node:worker_threads');\n"
   ]
  },
  {
   "cell_type": "code",
   "execution_count": 4,
   "metadata": {},
   "outputs": [
    {
     "name": "stdout",
     "output_type": "stream",
     "text": [
      "1\n"
     ]
    }
   ],
   "source": [
    "import { mkdirSync } from \"fs\";\n",
    "\n",
    "mkdirSync('test', { recursive: true })\n",
    "1"
   ]
  }
 ],
 "metadata": {
  "kernelspec": {
   "display_name": "TypeScript",
   "language": "typescript",
   "name": "tslab"
  },
  "language_info": {
   "codemirror_mode": {
    "mode": "typescript",
    "name": "javascript",
    "typescript": true
   },
   "file_extension": ".ts",
   "mimetype": "text/typescript",
   "name": "typescript",
   "version": "3.7.2"
  },
  "orig_nbformat": 4
 },
 "nbformat": 4,
 "nbformat_minor": 2
}
