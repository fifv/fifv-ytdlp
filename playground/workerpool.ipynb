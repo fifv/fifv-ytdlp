{
 "cells": [
  {
   "cell_type": "code",
   "execution_count": 14,
   "metadata": {},
   "outputs": [
    {
     "name": "stdout",
     "output_type": "stream",
     "text": [
      "Promise {\n",
      "  resolved: false,\n",
      "  rejected: false,\n",
      "  pending: true,\n",
      "  then: [Function (anonymous)],\n",
      "  cancel: [Function (anonymous)],\n",
      "  timeout: [Function (anonymous)]\n",
      "}\n",
      "result: 10000000999\n"
     ]
    }
   ],
   "source": [
    "// const workerpool = require('workerpool');\n",
    "import workerpool from 'workerpool'\n",
    "const unlimited = (count: number = 1000) => {\n",
    "\tlet i = 0\n",
    "\tfor ( ; i < count; i++) {\n",
    "\n",
    "\t}\n",
    "\treturn i\n",
    "}\n",
    "const pool = workerpool.pool()\n",
    "pool.exec(unlimited,[100600000999])\n",
    ".then((result)=>{\n",
    "\tconsole.log('result:',result,);\n",
    "})\n",
    "pool.exec(unlimited,[103000000999])\n",
    ".then((result)=>{\n",
    "\tconsole.log('result:',result,);\n",
    "})\n",
    "pool.exec(unlimited,[100600000999])\n",
    ".then((result)=>{\n",
    "\tconsole.log('result:',result,);\n",
    "})\n",
    "pool.exec(unlimited,[103000000999])\n",
    ".then((result)=>{\n",
    "\tconsole.log('result:',result,);\n",
    "})\n",
    "pool.exec(unlimited,[100600000999])\n",
    ".then((result)=>{\n",
    "\tconsole.log('result:',result,);\n",
    "})\n",
    "pool.exec(unlimited,[103000000999])\n",
    ".then((result)=>{\n",
    "\tconsole.log('result:',result,);\n",
    "})\n",
    "pool.exec(unlimited,[100600000999])\n",
    ".then((result)=>{\n",
    "\tconsole.log('result:',result,);\n",
    "})\n",
    "pool.exec(unlimited,[103000000999])\n",
    ".then((result)=>{\n",
    "\tconsole.log('result:',result,);\n",
    "})\n",
    "pool.exec(unlimited,[10000000999])\n",
    ".then((result)=>{\n",
    "\tconsole.log('result:',result,);\n",
    "})\n"
   ]
  }
 ],
 "metadata": {
  "kernelspec": {
   "display_name": "TypeScript",
   "language": "typescript",
   "name": "tslab"
  },
  "language_info": {
   "codemirror_mode": {
    "mode": "typescript",
    "name": "javascript",
    "typescript": true
   },
   "file_extension": ".ts",
   "mimetype": "text/typescript",
   "name": "typescript",
   "version": "3.7.2"
  },
  "orig_nbformat": 4
 },
 "nbformat": 4,
 "nbformat_minor": 2
}
